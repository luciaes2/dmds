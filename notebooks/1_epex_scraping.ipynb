{
 "cells": [
  {
   "cell_type": "markdown",
   "metadata": {},
   "source": [
    "# Session 1\n",
    "## Explorative Analysis of EPEXPOT Prices\n",
    "\n",
    "The first step in the data mining process is to develop an understanding of the business as well as the data that is needed to support it (see CRISP-DM). The next step in the process is data preparation, wich requires is to first akquire the data. Nowadays plenty of data is available on the web, either through APIs (Twitter, Goolgle, Quandl, etc.) or on the web pages themselves. If data is somehow embedded on a website, we need to go through a process called scraping, in order to separate the required data from the rest of the content. \n",
    "\n",
    "### Scraping EPEXSPOT Prices\n",
    "\n",
    "Let us assume that we need hourly electricity prices from the EPEXSPOT market for our business case. EPEXSPOT sells this data, but it must also provide the data on its website, for example, data for the [current week](https://www.epexspot.com/en/market-data/dayaheadauction/auction-table). \n",
    "\n",
    "#### BeautifulSoup\n",
    "\n",
    "To akquire the content and weed out the needed prices, we are going to use a Python library called [BeautifulSoup](https://www.crummy.com/software/BeautifulSoup/bs4/doc/)."
   ]
  },
  {
   "cell_type": "code",
   "execution_count": 1,
   "metadata": {
    "collapsed": false
   },
   "outputs": [],
   "source": [
    "from bs4 import BeautifulSoup\n",
    "import urllib.request"
   ]
  },
  {
   "cell_type": "markdown",
   "metadata": {},
   "source": [
    "If we provide the day of the week in the ULR, we get one week of hourly prices, with the given date as the last day of the week. We can use this in a later step to build a fully automated mining bot. By providing BeautifulSoup with the content of the url, it can import and store the content in a proprietary format."
   ]
  },
  {
   "cell_type": "code",
   "execution_count": 2,
   "metadata": {
    "collapsed": false
   },
   "outputs": [],
   "source": [
    "url = urllib.request.urlopen('https://www.epexspot.com/en/market-data/dayaheadauction/auction-table/2017-03-08/de')\n",
    "url = url.read()\n",
    "soup = BeautifulSoup(url,\"lxml\")"
   ]
  },
  {
   "cell_type": "markdown",
   "metadata": {},
   "source": [
    "All price data is available in a table with a *table* tag and has *list hours responsive* as its class name. We can therefore tell BeautifulSoup to extract content that meets this specification from the website and store it for us. BeautifulSoup stores all content that meets this requirement as a *ResultSet* and the individual elements in the set as *Tag*."
   ]
  },
  {
   "cell_type": "code",
   "execution_count": 3,
   "metadata": {
    "collapsed": false
   },
   "outputs": [
    {
     "name": "stdout",
     "output_type": "stream",
     "text": [
      "<class 'bs4.element.ResultSet'> <class 'bs4.element.Tag'>\n"
     ]
    }
   ],
   "source": [
    "table = soup.find_all('table', class_='list hours responsive')\n",
    "print(type(table), type(table[1]))"
   ]
  },
  {
   "cell_type": "markdown",
   "metadata": {},
   "source": [
    "The result set contains three tables, each holding one week of hourly prices for different markets. The Autrian-German prices are in table 1. The string representation of the Tag that holds table 1 returns its HTML code. Let us take a look at the first 1000 characters and check if the prices shows in the *td* tags match the prices from the website."
   ]
  },
  {
   "cell_type": "code",
   "execution_count": 4,
   "metadata": {
    "collapsed": false
   },
   "outputs": [
    {
     "data": {
      "text/plain": [
       "'<table border=\"0\" cellpadding=\"0\" cellspacing=\"0\" class=\"list hours responsive\" width=\"100%\">\\n<tbody>\\n<tr>\\n<th class=\"title\"></th>\\n<th class=\"units\"></th>\\n<th>Thu, 02/03</th>\\n<th>Fri, 03/03</th>\\n<th>Sat, 04/03</th>\\n<th>Sun, 05/03</th>\\n<th>Mon, 06/03</th>\\n<th>Tue, 07/03</th>\\n<th>Wed, 08/03</th>\\n</tr>\\n<tr class=\"no-border\">\\n<td class=\"title\">\\n                                                                    00 - 01\\n                                                            </td>\\n<td>€/MWh</td>\\n<td>29.73</td>\\n<td>27.02</td>\\n<td>31.60</td>\\n<td>21.11</td>\\n<td>31.24</td>\\n<td>31.07</td>\\n<td>33.98</td>\\n</tr>\\n<tr>\\n<td>\\xa0</td>\\n<td>MWh</td>\\n<td>25,725.0</td>\\n<td>28,256.6</td>\\n<td>25,733.8</td>\\n<td>28,440.3</td>\\n<td>24,044.3</td>\\n<td>24,845.4</td>\\n<td>22,777.5</td>\\n</tr>\\n<tr class=\"no-border\">\\n<td class=\"title\">\\n                                                                    01 - 02\\n                                                            </td>\\n<td>€/MWh</td>\\n<td>29.49</td>\\n<td>26.47</td>'"
      ]
     },
     "execution_count": 4,
     "metadata": {},
     "output_type": "execute_result"
    }
   ],
   "source": [
    "str(table[1])[:1000]"
   ]
  },
  {
   "cell_type": "markdown",
   "metadata": {},
   "source": [
    "#### Pandas\n",
    "To be able to analyze the price data, we must convert the data from html format into some data structure that does not treat the prices as strings but as floating point numbers, which will then allow us to perform numerical analyses. A popular library for data analysis in Python is [Pandas](http://pandas.pydata.org). "
   ]
  },
  {
   "cell_type": "code",
   "execution_count": 5,
   "metadata": {
    "collapsed": true
   },
   "outputs": [],
   "source": [
    "import pandas as pd\n",
    "%matplotlib inline"
   ]
  },
  {
   "cell_type": "markdown",
   "metadata": {},
   "source": [
    "Since Pandas understands html content, we are going to use the builder function *read_html()* which returns a Pandas *DataFrame*. The DataFrame is Pandas' most popular and powerful data structure, and we will revisit this class throughout this course."
   ]
  },
  {
   "cell_type": "code",
   "execution_count": 6,
   "metadata": {
    "collapsed": false
   },
   "outputs": [
    {
     "data": {
      "text/html": [
       "<div>\n",
       "<table border=\"1\" class=\"dataframe\">\n",
       "  <thead>\n",
       "    <tr style=\"text-align: right;\">\n",
       "      <th></th>\n",
       "      <th>Unnamed: 0</th>\n",
       "      <th>Unnamed: 1</th>\n",
       "      <th>Thu, 02/03</th>\n",
       "      <th>Fri, 03/03</th>\n",
       "      <th>Sat, 04/03</th>\n",
       "      <th>Sun, 05/03</th>\n",
       "      <th>Mon, 06/03</th>\n",
       "      <th>Tue, 07/03</th>\n",
       "      <th>Wed, 08/03</th>\n",
       "    </tr>\n",
       "  </thead>\n",
       "  <tbody>\n",
       "    <tr>\n",
       "      <th>0</th>\n",
       "      <td>00 - 01</td>\n",
       "      <td>€/MWh</td>\n",
       "      <td>29.73</td>\n",
       "      <td>27.02</td>\n",
       "      <td>31.60</td>\n",
       "      <td>21.11</td>\n",
       "      <td>31.24</td>\n",
       "      <td>31.07</td>\n",
       "      <td>33.98</td>\n",
       "    </tr>\n",
       "    <tr>\n",
       "      <th>1</th>\n",
       "      <td>NaN</td>\n",
       "      <td>MWh</td>\n",
       "      <td>25725.00</td>\n",
       "      <td>28256.60</td>\n",
       "      <td>25733.80</td>\n",
       "      <td>28440.30</td>\n",
       "      <td>24044.30</td>\n",
       "      <td>24845.40</td>\n",
       "      <td>22777.50</td>\n",
       "    </tr>\n",
       "    <tr>\n",
       "      <th>2</th>\n",
       "      <td>01 - 02</td>\n",
       "      <td>€/MWh</td>\n",
       "      <td>29.49</td>\n",
       "      <td>26.47</td>\n",
       "      <td>30.25</td>\n",
       "      <td>15.44</td>\n",
       "      <td>29.04</td>\n",
       "      <td>30.01</td>\n",
       "      <td>32.76</td>\n",
       "    </tr>\n",
       "    <tr>\n",
       "      <th>3</th>\n",
       "      <td>NaN</td>\n",
       "      <td>MWh</td>\n",
       "      <td>26296.00</td>\n",
       "      <td>27244.50</td>\n",
       "      <td>26299.70</td>\n",
       "      <td>29588.40</td>\n",
       "      <td>23290.20</td>\n",
       "      <td>24692.50</td>\n",
       "      <td>22485.80</td>\n",
       "    </tr>\n",
       "    <tr>\n",
       "      <th>4</th>\n",
       "      <td>02 - 03</td>\n",
       "      <td>€/MWh</td>\n",
       "      <td>25.99</td>\n",
       "      <td>26.03</td>\n",
       "      <td>30.04</td>\n",
       "      <td>11.56</td>\n",
       "      <td>27.99</td>\n",
       "      <td>29.99</td>\n",
       "      <td>32.00</td>\n",
       "    </tr>\n",
       "  </tbody>\n",
       "</table>\n",
       "</div>"
      ],
      "text/plain": [
       "  Unnamed: 0 Unnamed: 1  Thu, 02/03  Fri, 03/03  Sat, 04/03  Sun, 05/03  \\\n",
       "0    00 - 01      €/MWh       29.73       27.02       31.60       21.11   \n",
       "1        NaN        MWh    25725.00    28256.60    25733.80    28440.30   \n",
       "2    01 - 02      €/MWh       29.49       26.47       30.25       15.44   \n",
       "3        NaN        MWh    26296.00    27244.50    26299.70    29588.40   \n",
       "4    02 - 03      €/MWh       25.99       26.03       30.04       11.56   \n",
       "\n",
       "   Mon, 06/03  Tue, 07/03  Wed, 08/03  \n",
       "0       31.24       31.07       33.98  \n",
       "1    24044.30    24845.40    22777.50  \n",
       "2       29.04       30.01       32.76  \n",
       "3    23290.20    24692.50    22485.80  \n",
       "4       27.99       29.99       32.00  "
      ]
     },
     "execution_count": 6,
     "metadata": {},
     "output_type": "execute_result"
    }
   ],
   "source": [
    "df = pd.read_html(str(table[1]), header=0, encoding='utf8')[0]\n",
    "df.head()"
   ]
  },
  {
   "cell_type": "markdown",
   "metadata": {},
   "source": [
    "### Data Preparation\n",
    "As soon as our data is available as a Pandas *DataFrame*, we can begin with the next step in our data mining process  clearning, transforming, merging and reshaping the data.\n",
    "\n",
    "The table currently holds prices and volumes for each hour in rows and for each week in columns. Since we do not need the row labels for the hours and the volumns, we are going to drop these columns."
   ]
  },
  {
   "cell_type": "code",
   "execution_count": 7,
   "metadata": {
    "collapsed": false
   },
   "outputs": [
    {
     "data": {
      "text/html": [
       "<div>\n",
       "<table border=\"1\" class=\"dataframe\">\n",
       "  <thead>\n",
       "    <tr style=\"text-align: right;\">\n",
       "      <th></th>\n",
       "      <th>Thu, 02/03</th>\n",
       "      <th>Fri, 03/03</th>\n",
       "      <th>Sat, 04/03</th>\n",
       "      <th>Sun, 05/03</th>\n",
       "      <th>Mon, 06/03</th>\n",
       "      <th>Tue, 07/03</th>\n",
       "      <th>Wed, 08/03</th>\n",
       "    </tr>\n",
       "  </thead>\n",
       "  <tbody>\n",
       "    <tr>\n",
       "      <th>0</th>\n",
       "      <td>29.73</td>\n",
       "      <td>27.02</td>\n",
       "      <td>31.60</td>\n",
       "      <td>21.11</td>\n",
       "      <td>31.24</td>\n",
       "      <td>31.07</td>\n",
       "      <td>33.98</td>\n",
       "    </tr>\n",
       "    <tr>\n",
       "      <th>1</th>\n",
       "      <td>25725.00</td>\n",
       "      <td>28256.60</td>\n",
       "      <td>25733.80</td>\n",
       "      <td>28440.30</td>\n",
       "      <td>24044.30</td>\n",
       "      <td>24845.40</td>\n",
       "      <td>22777.50</td>\n",
       "    </tr>\n",
       "    <tr>\n",
       "      <th>2</th>\n",
       "      <td>29.49</td>\n",
       "      <td>26.47</td>\n",
       "      <td>30.25</td>\n",
       "      <td>15.44</td>\n",
       "      <td>29.04</td>\n",
       "      <td>30.01</td>\n",
       "      <td>32.76</td>\n",
       "    </tr>\n",
       "    <tr>\n",
       "      <th>3</th>\n",
       "      <td>26296.00</td>\n",
       "      <td>27244.50</td>\n",
       "      <td>26299.70</td>\n",
       "      <td>29588.40</td>\n",
       "      <td>23290.20</td>\n",
       "      <td>24692.50</td>\n",
       "      <td>22485.80</td>\n",
       "    </tr>\n",
       "    <tr>\n",
       "      <th>4</th>\n",
       "      <td>25.99</td>\n",
       "      <td>26.03</td>\n",
       "      <td>30.04</td>\n",
       "      <td>11.56</td>\n",
       "      <td>27.99</td>\n",
       "      <td>29.99</td>\n",
       "      <td>32.00</td>\n",
       "    </tr>\n",
       "  </tbody>\n",
       "</table>\n",
       "</div>"
      ],
      "text/plain": [
       "   Thu, 02/03  Fri, 03/03  Sat, 04/03  Sun, 05/03  Mon, 06/03  Tue, 07/03  \\\n",
       "0       29.73       27.02       31.60       21.11       31.24       31.07   \n",
       "1    25725.00    28256.60    25733.80    28440.30    24044.30    24845.40   \n",
       "2       29.49       26.47       30.25       15.44       29.04       30.01   \n",
       "3    26296.00    27244.50    26299.70    29588.40    23290.20    24692.50   \n",
       "4       25.99       26.03       30.04       11.56       27.99       29.99   \n",
       "\n",
       "   Wed, 08/03  \n",
       "0       33.98  \n",
       "1    22777.50  \n",
       "2       32.76  \n",
       "3    22485.80  \n",
       "4       32.00  "
      ]
     },
     "execution_count": 7,
     "metadata": {},
     "output_type": "execute_result"
    }
   ],
   "source": [
    "df = df.drop(['Unnamed: 0','Unnamed: 1'],axis=1)\n",
    "df.head()"
   ]
  },
  {
   "cell_type": "markdown",
   "metadata": {},
   "source": [
    "Afterwards, we must separate the prices from the volumes. This is fairly easy, since every row with an even number holds prices and every row with an odd number the volumes. All iterable objects in Python, like lists, Numpy arrays, or Pandas DataFrames understand some powerful but sytactically easy-to-use indexing statements. For example, to get all even rows, we simple need to call:"
   ]
  },
  {
   "cell_type": "code",
   "execution_count": 8,
   "metadata": {
    "collapsed": false
   },
   "outputs": [
    {
     "data": {
      "text/html": [
       "<div>\n",
       "<table border=\"1\" class=\"dataframe\">\n",
       "  <thead>\n",
       "    <tr style=\"text-align: right;\">\n",
       "      <th></th>\n",
       "      <th>Thu, 02/03</th>\n",
       "      <th>Fri, 03/03</th>\n",
       "      <th>Sat, 04/03</th>\n",
       "      <th>Sun, 05/03</th>\n",
       "      <th>Mon, 06/03</th>\n",
       "      <th>Tue, 07/03</th>\n",
       "      <th>Wed, 08/03</th>\n",
       "    </tr>\n",
       "  </thead>\n",
       "  <tbody>\n",
       "    <tr>\n",
       "      <th>0</th>\n",
       "      <td>29.73</td>\n",
       "      <td>27.02</td>\n",
       "      <td>31.60</td>\n",
       "      <td>21.11</td>\n",
       "      <td>31.24</td>\n",
       "      <td>31.07</td>\n",
       "      <td>33.98</td>\n",
       "    </tr>\n",
       "    <tr>\n",
       "      <th>2</th>\n",
       "      <td>29.49</td>\n",
       "      <td>26.47</td>\n",
       "      <td>30.25</td>\n",
       "      <td>15.44</td>\n",
       "      <td>29.04</td>\n",
       "      <td>30.01</td>\n",
       "      <td>32.76</td>\n",
       "    </tr>\n",
       "    <tr>\n",
       "      <th>4</th>\n",
       "      <td>25.99</td>\n",
       "      <td>26.03</td>\n",
       "      <td>30.04</td>\n",
       "      <td>11.56</td>\n",
       "      <td>27.99</td>\n",
       "      <td>29.99</td>\n",
       "      <td>32.00</td>\n",
       "    </tr>\n",
       "    <tr>\n",
       "      <th>6</th>\n",
       "      <td>26.00</td>\n",
       "      <td>28.99</td>\n",
       "      <td>28.44</td>\n",
       "      <td>10.60</td>\n",
       "      <td>25.35</td>\n",
       "      <td>29.64</td>\n",
       "      <td>31.38</td>\n",
       "    </tr>\n",
       "    <tr>\n",
       "      <th>8</th>\n",
       "      <td>26.17</td>\n",
       "      <td>30.91</td>\n",
       "      <td>28.26</td>\n",
       "      <td>9.84</td>\n",
       "      <td>27.30</td>\n",
       "      <td>30.60</td>\n",
       "      <td>31.20</td>\n",
       "    </tr>\n",
       "  </tbody>\n",
       "</table>\n",
       "</div>"
      ],
      "text/plain": [
       "   Thu, 02/03  Fri, 03/03  Sat, 04/03  Sun, 05/03  Mon, 06/03  Tue, 07/03  \\\n",
       "0       29.73       27.02       31.60       21.11       31.24       31.07   \n",
       "2       29.49       26.47       30.25       15.44       29.04       30.01   \n",
       "4       25.99       26.03       30.04       11.56       27.99       29.99   \n",
       "6       26.00       28.99       28.44       10.60       25.35       29.64   \n",
       "8       26.17       30.91       28.26        9.84       27.30       30.60   \n",
       "\n",
       "   Wed, 08/03  \n",
       "0       33.98  \n",
       "2       32.76  \n",
       "4       32.00  \n",
       "6       31.38  \n",
       "8       31.20  "
      ]
     },
     "execution_count": 8,
     "metadata": {},
     "output_type": "execute_result"
    }
   ],
   "source": [
    "df[::2].head()"
   ]
  },
  {
   "cell_type": "markdown",
   "metadata": {},
   "source": [
    "The iterator loops over all rows, but increments the index in increments of two, so that we only get to see rows with an even number. The function *head()* finally shows us the first five rows of the resulting copy of the DataFrame.\n",
    "\n",
    "The next step is to flatten the resulting table, so that all columns of the table are stacked on top of each other, and all 7 x 24 prices are returned as a single long array. Before we can stack the columns, we must transpose the table, since the function *stack()* works row-wise and not column-wise. The function *tranpose()* simply flips the indices internally, which corresponds to the mathematical concept of transposing a matrix."
   ]
  },
  {
   "cell_type": "code",
   "execution_count": 9,
   "metadata": {
    "collapsed": false
   },
   "outputs": [],
   "source": [
    "prices = df[::2].transpose().stack()"
   ]
  },
  {
   "cell_type": "markdown",
   "metadata": {},
   "source": [
    "Although the dates are provided in the columns, they are not in a good format to be parsed as dates. Since we know the last day of the week, however, we can create our own time index, by using the Pandas builder function *date_range()*. We then replace the existing index with the new datetime index."
   ]
  },
  {
   "cell_type": "code",
   "execution_count": 10,
   "metadata": {
    "collapsed": true
   },
   "outputs": [],
   "source": [
    "index = pd.date_range(end='2017-03-08-23:00', periods=7*24, freq='h')\n",
    "prices = df[::2].transpose().stack()\n",
    "prices.index = index"
   ]
  },
  {
   "cell_type": "markdown",
   "metadata": {},
   "source": [
    "Note that the last element of the date time index is defined to as 23:00. If we do not specify the last hour, the index would have started at 1:00 and not at 0:00. Since prices are valid for a whole hour, in this case going from 0:00 to 1:00, it is really a matter of definition, whether we set the axis tick at 0:00 or 1:00, but it is more natural to pick the beginning of an hour as the tick.\n",
    "\n",
    "To finally plot the result we can now use the function *plot()* which will return a line chart with the time series of hourly prices. We can see that, by providing a datetime index, the x-axis automatically gets properly formated with the correct dates."
   ]
  },
  {
   "cell_type": "code",
   "execution_count": 11,
   "metadata": {
    "collapsed": false
   },
   "outputs": [
    {
     "data": {
      "text/plain": [
       "<matplotlib.axes._subplots.AxesSubplot at 0x7fa2c5f67208>"
      ]
     },
     "execution_count": 11,
     "metadata": {},
     "output_type": "execute_result"
    },
    {
     "data": {
      "image/png": "[encoded data removed]",
      "text/plain": [
       "<matplotlib.figure.Figure at 0x7fa2c6200e10>"
      ]
     },
     "metadata": {},
     "output_type": "display_data"
    }
   ],
   "source": [
    "prices.plot()"
   ]
  },
  {
   "cell_type": "markdown",
   "metadata": {},
   "source": [
    "Now we can do the same with the volumes. This time we need all odd rows, so the index has to start at 1. The datetime index for volumes and prices is the same, so that we can replace the volumes index with our previously created datetime index."
   ]
  },
  {
   "cell_type": "code",
   "execution_count": 12,
   "metadata": {
    "collapsed": false
   },
   "outputs": [
    {
     "data": {
      "text/plain": [
       "<matplotlib.axes._subplots.AxesSubplot at 0x7fa2c45f4da0>"
      ]
     },
     "execution_count": 12,
     "metadata": {},
     "output_type": "execute_result"
    },
    {
     "data": {
      "image/png": "[encoded data removed]",
      "text/plain": [
       "<matplotlib.figure.Figure at 0x7fa2c5e3cb00>"
      ]
     },
     "metadata": {},
     "output_type": "display_data"
    }
   ],
   "source": [
    "volumes = df[1::2].transpose().stack()\n",
    "volumes.index = index\n",
    "volumes.plot()"
   ]
  },
  {
   "cell_type": "markdown",
   "metadata": {},
   "source": [
    "The above data is not stored as a DataFrame but as a *Series* which, in contrast to DataFrame, is one-dimensional. Since Series cannot be extended, we must first create a new empty DataFrame with our datetime index as its index. Then we append prices and volumes to the newsly created DataFrame and call *head()* to look at the first firve rows."
   ]
  },
  {
   "cell_type": "code",
   "execution_count": 13,
   "metadata": {
    "collapsed": false
   },
   "outputs": [
    {
     "data": {
      "text/html": [
       "<div>\n",
       "<table border=\"1\" class=\"dataframe\">\n",
       "  <thead>\n",
       "    <tr style=\"text-align: right;\">\n",
       "      <th></th>\n",
       "      <th>prices</th>\n",
       "      <th>volumes</th>\n",
       "    </tr>\n",
       "  </thead>\n",
       "  <tbody>\n",
       "    <tr>\n",
       "      <th>2017-03-02 00:00:00</th>\n",
       "      <td>29.73</td>\n",
       "      <td>25725.0</td>\n",
       "    </tr>\n",
       "    <tr>\n",
       "      <th>2017-03-02 01:00:00</th>\n",
       "      <td>29.49</td>\n",
       "      <td>26296.0</td>\n",
       "    </tr>\n",
       "    <tr>\n",
       "      <th>2017-03-02 02:00:00</th>\n",
       "      <td>25.99</td>\n",
       "      <td>26812.4</td>\n",
       "    </tr>\n",
       "    <tr>\n",
       "      <th>2017-03-02 03:00:00</th>\n",
       "      <td>26.00</td>\n",
       "      <td>26349.5</td>\n",
       "    </tr>\n",
       "    <tr>\n",
       "      <th>2017-03-02 04:00:00</th>\n",
       "      <td>26.17</td>\n",
       "      <td>26973.2</td>\n",
       "    </tr>\n",
       "  </tbody>\n",
       "</table>\n",
       "</div>"
      ],
      "text/plain": [
       "                     prices  volumes\n",
       "2017-03-02 00:00:00   29.73  25725.0\n",
       "2017-03-02 01:00:00   29.49  26296.0\n",
       "2017-03-02 02:00:00   25.99  26812.4\n",
       "2017-03-02 03:00:00   26.00  26349.5\n",
       "2017-03-02 04:00:00   26.17  26973.2"
      ]
     },
     "execution_count": 13,
     "metadata": {},
     "output_type": "execute_result"
    }
   ],
   "source": [
    "df = pd.concat([prices, volumes], axis=1)\n",
    "df.columns = [\"prices\", \"volumes\"]\n",
    "df.head()"
   ]
  },
  {
   "cell_type": "markdown",
   "metadata": {},
   "source": [
    "Now that our data is in the right format and shape, we can begin with our exploratory analyses."
   ]
  },
  {
   "cell_type": "markdown",
   "metadata": {},
   "source": [
    "## Exercises\n",
    "1. Manually collect data from the entire month of February. Use pd.concat() to merge all dataframes together into a single one. The easiest approach is to create a list at the very top to which you append the new dataframes and then insert this list into concat() function. Optional: Use a loop to automatically loop over the past couple of weeks.\n",
    "2. What is the peak price (9:00 to 20:00) for each day? What is the base price (daily mean)? Plot both prices in a single plot.\n",
    "3. Is there a relationship between price and volume? What is a good way to measure this relationship? What would be a good way to visualize it?\n",
    "4. Plot the distribution of hourly prices in one graph.\n",
    "5. Plot the time series of weekly averages"
   ]
  }
 ],
 "metadata": {
  "kernelspec": {
   "display_name": "Python 3",
   "language": "python",
   "name": "python3"
  },
  "language_info": {
   "codemirror_mode": {
    "name": "ipython",
    "version": 3
   },
   "file_extension": ".py",
   "mimetype": "text/x-python",
   "name": "python",
   "nbconvert_exporter": "python",
   "pygments_lexer": "ipython3",
   "version": "3.4.3"
  },
  "widgets": {
   "state": {},
   "version": "1.1.2"
  }
 },
 "nbformat": 4,
 "nbformat_minor": 0
}
